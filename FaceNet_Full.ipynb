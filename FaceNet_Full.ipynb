{
 "cells": [
  {
   "cell_type": "code",
   "execution_count": 1,
   "metadata": {},
   "outputs": [],
   "source": [
    "import torch\n",
    "from torch import nn\n",
    "from torch.utils import data\n",
    "import os\n",
    "import numpy as np\n",
    "from torch.utils.data import Sampler, BatchSampler,SequentialSampler, RandomSampler, DataLoader\n",
    "from skimage import io, transform\n",
    "import matplotlib.pyplot as plt\n",
    "from torchvision import transforms, utils, models"
   ]
  },
  {
   "cell_type": "code",
   "execution_count": 2,
   "metadata": {},
   "outputs": [],
   "source": [
    "from utils import *\n",
    "from losses import *\n",
    "import torch\n",
    "from torch.optim import lr_scheduler\n",
    "import torch.optim as optim\n",
    "from torch.autograd import Variable\n",
    "import time"
   ]
  },
  {
   "cell_type": "code",
   "execution_count": 3,
   "metadata": {},
   "outputs": [],
   "source": [
    "import gc"
   ]
  },
  {
   "cell_type": "code",
   "execution_count": 4,
   "metadata": {},
   "outputs": [],
   "source": [
    "def listdir_fullpath(d):\n",
    "    return [os.path.join(d, f) for f in os.listdir(d)]"
   ]
  },
  {
   "cell_type": "code",
   "execution_count": 5,
   "metadata": {},
   "outputs": [],
   "source": [
    "def create_filelists(data_folder):\n",
    "    identities = os.listdir(data_folder)\n",
    "    identities.sort()\n",
    "    n_identities = len(identities)\n",
    "    data_source = []\n",
    "    Filelist = []\n",
    "    idx = 0\n",
    "    for identity in identities:\n",
    "        filenames = listdir_fullpath(data_folder + identity)\n",
    "        filenames.sort()\n",
    "        samples = [{'filename':filenames[i],'idx':idx+i} for i in range(len(filenames))]\n",
    "        data_source.append(samples)\n",
    "        Filelist.extend(filenames)\n",
    "        idx = idx + len(filenames)\n",
    "    return data_source, Filelist, identities"
   ]
  },
  {
   "cell_type": "code",
   "execution_count": 6,
   "metadata": {},
   "outputs": [],
   "source": [
    "class PKSampler(Sampler):\n",
    "    def __init__(self, data_source, p , k):\n",
    "        self.data_source = data_source #list of lists containing id and filenames and index in total filelist\n",
    "        self.p = p\n",
    "        self.k = k\n",
    "        self.dataset_size = data_source[-1][-1]['idx']\n",
    "        self.length = self.dataset_size // ((len(self.data_source) // self.p) * self.p )\n",
    "        \n",
    "    def __iter__(self):\n",
    "        id_list_len = len(self.data_source)\n",
    "        batch = []\n",
    "        \n",
    "        for n_pass in range(self.dataset_size // (((id_list_len // self.p) * self.p ) * self.k)):\n",
    "            random_id_list = np.random.permutation(id_list_len)\n",
    "            id_idx = 0\n",
    "            for r_id in range((id_list_len//self.p)-1):\n",
    "                if id_idx>=id_list_len:\n",
    "                    break\n",
    "                for p_i in range(self.p):\n",
    "                    id_idx = id_idx + 1\n",
    "                    random_sample_list = np.random.permutation(len(self.data_source[random_id_list[id_idx]]))\n",
    "                    for k_i in range(self.k):\n",
    "                        batch.append(self.data_source[random_id_list[id_idx]][random_sample_list[k_i]]['idx'])\n",
    "                yield batch\n",
    "                batch = []\n",
    "                \n",
    "    def __len__(self):\n",
    "        return self.length"
   ]
  },
  {
   "cell_type": "code",
   "execution_count": 7,
   "metadata": {},
   "outputs": [],
   "source": [
    "class VGGFace2_100_PK(data.Dataset):\n",
    "    def __init__(self, Filelist, identities, cropsize=[224,224] ,transform=None):\n",
    "        self.transform = transform\n",
    "        self.cropsize = cropsize\n",
    "        self.Filelist = Filelist\n",
    "        self.identities = identities\n",
    "                    \n",
    "    def __len__(self):\n",
    "        return len(self.Filelist)\n",
    "\n",
    "    def __getitem__(self, index):\n",
    "        img_name = self.Filelist[index]\n",
    "        image = io.imread(img_name)/255.0\n",
    "              \n",
    "        h,w = image.shape[:2]\n",
    "#         print(h,w)\n",
    "        min_dim = min(h,w)\n",
    "#         print(min_dim)\n",
    "        \n",
    "        if min_dim <= 224:\n",
    "            image = transform.rescale(image, 228.0/min_dim, mode=\"constant\")\n",
    "            h,w = image.shape[:2]\n",
    "#             print(\"resized = \",h,w)\n",
    "        \n",
    "        \n",
    "        new_h,new_w = self.cropsize\n",
    "        \n",
    "#         print(h,w,new_h,new_w)\n",
    "        \n",
    "        top = np.random.randint(0, h - new_h )\n",
    "        left = np.random.randint(0, w - new_w )\n",
    "            \n",
    "        image = image[ top : top + new_h,\n",
    "                      left : left + new_w ]\n",
    "        \n",
    "#         plt.figure(),\n",
    "#         plt.imshow(image)\n",
    "        \n",
    "        image = image.transpose(2,0,1)\n",
    "            \n",
    "        id_name = img_name.split(\"/\")[-2]\n",
    "        id_idx = self.identities.index(id_name)\n",
    "\n",
    "        return image,id_idx"
   ]
  },
  {
   "cell_type": "code",
   "execution_count": 8,
   "metadata": {},
   "outputs": [],
   "source": [
    "class VGG16convnet(nn.Module):\n",
    "            def __init__(self):\n",
    "                super(VGG16convnet, self).__init__()\n",
    "                self.model = models.vgg16_bn(pretrained=True).cuda().float()\n",
    "                self.model.classifier = nn.Sequential(*list(self.model.classifier.children())[:4])\n",
    "                \n",
    "            def forward(self, x):\n",
    "                return self.model.forward(x)"
   ]
  },
  {
   "cell_type": "code",
   "execution_count": null,
   "metadata": {},
   "outputs": [],
   "source": []
  },
  {
   "cell_type": "code",
   "execution_count": 9,
   "metadata": {},
   "outputs": [],
   "source": [
    "def train():\n",
    "    net = VGG16convnet().cuda()   \n",
    "    data_folder = '/media/jmukherjee/2TB_Store/DNN_Projects/Adversarial/data/VGGFACE2_100/Train/'\n",
    "    data_source , Filelist, identity_list = create_filelists(data_folder)\n",
    "    VGGTest = VGGFace2_100_PK(Filelist,identity_list)\n",
    "    pksampler = PKSampler(data_source, 4 , 6)\n",
    "    dataloader = DataLoader(VGGTest, batch_sampler=pksampler,\n",
    "                        shuffle=False, num_workers=4)\n",
    "\n",
    "    margin = 1.\n",
    "    loss_fn = OnlineTripletLoss(margin, RandomNegativeTripletSelector(margin))\n",
    "    lr = 1e-3\n",
    "    optimizer = optim.Adam(net.parameters(), lr=lr, weight_decay=1e-4)\n",
    "    scheduler = lr_scheduler.StepLR(optimizer, 8, gamma=0.1, last_epoch=-1)\n",
    "    n_epochs = 20\n",
    "    log_interval = 100\n",
    "    \n",
    "    for epoch_no in range(n_epochs):\n",
    "        print(\"Epoch: \"+str(epoch_no))\n",
    "        epoch_loss = 0.0\n",
    "        net.train()\n",
    "        for i, (images, ids) in enumerate(dataloader):\n",
    "            optimizer.zero_grad()\n",
    "                      \n",
    "            embeddings = net(images.float().cuda())\n",
    "            loss,n_triplets = loss_fn(embeddings, ids.cuda())\n",
    "            \n",
    "            loss.backward()\n",
    "            optimizer.step()\n",
    "    \n",
    "            epoch_loss = epoch_loss + loss.item()\n",
    "\n",
    "            if (i+1)%log_interval == 0:\n",
    "                print(\"batch = \"+str(i)+\" Loss = \"+str(loss.item())+ \" timestamp = \"+str(time.time()))\n",
    "                gc.collect()\n",
    "            del embeddings, loss, n_triplets\n",
    "        print(\"Epoch Loss = \"+str(epoch_loss/i))\n",
    "            "
   ]
  },
  {
   "cell_type": "code",
   "execution_count": 10,
   "metadata": {},
   "outputs": [
    {
     "name": "stdout",
     "output_type": "stream",
     "text": [
      "Epoch: 0\n"
     ]
    },
    {
     "name": "stderr",
     "output_type": "stream",
     "text": [
      "/home/jmukherjee/anaconda3/envs/dl/lib/python2.7/site-packages/skimage/transform/_warps.py:84: UserWarning: The default mode, 'constant', will be changed to 'reflect' in skimage 0.15.\n",
      "  warn(\"The default mode, 'constant', will be changed to 'reflect' in \"\n",
      "/home/jmukherjee/anaconda3/envs/dl/lib/python2.7/site-packages/skimage/transform/_warps.py:84: UserWarning: The default mode, 'constant', will be changed to 'reflect' in skimage 0.15.\n",
      "  warn(\"The default mode, 'constant', will be changed to 'reflect' in \"\n",
      "/home/jmukherjee/anaconda3/envs/dl/lib/python2.7/site-packages/skimage/transform/_warps.py:84: UserWarning: The default mode, 'constant', will be changed to 'reflect' in skimage 0.15.\n",
      "  warn(\"The default mode, 'constant', will be changed to 'reflect' in \"\n",
      "/home/jmukherjee/anaconda3/envs/dl/lib/python2.7/site-packages/skimage/transform/_warps.py:84: UserWarning: The default mode, 'constant', will be changed to 'reflect' in skimage 0.15.\n",
      "  warn(\"The default mode, 'constant', will be changed to 'reflect' in \"\n"
     ]
    },
    {
     "name": "stdout",
     "output_type": "stream",
     "text": [
      "batch = 99 Loss = 1.20749950409 timestamp = 1556654515.19\n",
      "batch = 199 Loss = 0.973337948322 timestamp = 1556654565.54\n",
      "batch = 299 Loss = 1.12557399273 timestamp = 1556654616.05\n",
      "batch = 399 Loss = 1.12340688705 timestamp = 1556654666.43\n",
      "batch = 499 Loss = 1.05665636063 timestamp = 1556654716.55\n",
      "batch = 599 Loss = 0.979082405567 timestamp = 1556654766.91\n",
      "batch = 699 Loss = 0.985109269619 timestamp = 1556654817.13\n",
      "batch = 799 Loss = 0.953769147396 timestamp = 1556654866.98\n",
      "batch = 899 Loss = 1.15496349335 timestamp = 1556654916.88\n",
      "batch = 999 Loss = 1.053642869 timestamp = 1556654966.9\n",
      "batch = 1099 Loss = 1.05140328407 timestamp = 1556655016.95\n",
      "Epoch Loss = 3.7218849149\n",
      "Epoch: 1\n"
     ]
    },
    {
     "name": "stderr",
     "output_type": "stream",
     "text": [
      "/home/jmukherjee/anaconda3/envs/dl/lib/python2.7/site-packages/skimage/transform/_warps.py:84: UserWarning: The default mode, 'constant', will be changed to 'reflect' in skimage 0.15.\n",
      "  warn(\"The default mode, 'constant', will be changed to 'reflect' in \"\n",
      "/home/jmukherjee/anaconda3/envs/dl/lib/python2.7/site-packages/skimage/transform/_warps.py:84: UserWarning: The default mode, 'constant', will be changed to 'reflect' in skimage 0.15.\n",
      "  warn(\"The default mode, 'constant', will be changed to 'reflect' in \"\n",
      "/home/jmukherjee/anaconda3/envs/dl/lib/python2.7/site-packages/skimage/transform/_warps.py:84: UserWarning: The default mode, 'constant', will be changed to 'reflect' in skimage 0.15.\n",
      "  warn(\"The default mode, 'constant', will be changed to 'reflect' in \"\n",
      "/home/jmukherjee/anaconda3/envs/dl/lib/python2.7/site-packages/skimage/transform/_warps.py:84: UserWarning: The default mode, 'constant', will be changed to 'reflect' in skimage 0.15.\n",
      "  warn(\"The default mode, 'constant', will be changed to 'reflect' in \"\n"
     ]
    },
    {
     "name": "stdout",
     "output_type": "stream",
     "text": [
      "batch = 99 Loss = 0.94804418087 timestamp = 1556655068.71\n",
      "batch = 199 Loss = 1.04183650017 timestamp = 1556655118.87\n",
      "batch = 299 Loss = 0.988510847092 timestamp = 1556655168.83\n",
      "batch = 399 Loss = 1.06649029255 timestamp = 1556655218.54\n",
      "batch = 499 Loss = 0.993713498116 timestamp = 1556655268.25\n",
      "batch = 599 Loss = 1.03923273087 timestamp = 1556655317.93\n",
      "batch = 699 Loss = 1.08206963539 timestamp = 1556655367.56\n",
      "batch = 799 Loss = 1.160551548 timestamp = 1556655417.25\n",
      "batch = 899 Loss = 0.968509316444 timestamp = 1556655467.25\n",
      "batch = 999 Loss = 1.03682589531 timestamp = 1556655517.7\n",
      "batch = 1099 Loss = 1.03084254265 timestamp = 1556655568.07\n",
      "Epoch Loss = 1.05253632192\n",
      "Epoch: 2\n"
     ]
    },
    {
     "name": "stderr",
     "output_type": "stream",
     "text": [
      "/home/jmukherjee/anaconda3/envs/dl/lib/python2.7/site-packages/skimage/transform/_warps.py:84: UserWarning: The default mode, 'constant', will be changed to 'reflect' in skimage 0.15.\n",
      "  warn(\"The default mode, 'constant', will be changed to 'reflect' in \"\n",
      "/home/jmukherjee/anaconda3/envs/dl/lib/python2.7/site-packages/skimage/transform/_warps.py:84: UserWarning: The default mode, 'constant', will be changed to 'reflect' in skimage 0.15.\n",
      "  warn(\"The default mode, 'constant', will be changed to 'reflect' in \"\n",
      "/home/jmukherjee/anaconda3/envs/dl/lib/python2.7/site-packages/skimage/transform/_warps.py:84: UserWarning: The default mode, 'constant', will be changed to 'reflect' in skimage 0.15.\n",
      "  warn(\"The default mode, 'constant', will be changed to 'reflect' in \"\n",
      "/home/jmukherjee/anaconda3/envs/dl/lib/python2.7/site-packages/skimage/transform/_warps.py:84: UserWarning: The default mode, 'constant', will be changed to 'reflect' in skimage 0.15.\n",
      "  warn(\"The default mode, 'constant', will be changed to 'reflect' in \"\n"
     ]
    },
    {
     "name": "stdout",
     "output_type": "stream",
     "text": [
      "batch = 99 Loss = 0.947218298912 timestamp = 1556655620.16\n",
      "batch = 199 Loss = 0.927696824074 timestamp = 1556655670.46\n",
      "batch = 299 Loss = 1.12189865112 timestamp = 1556655721.01\n",
      "batch = 399 Loss = 0.961406230927 timestamp = 1556655771.56\n",
      "batch = 499 Loss = 0.970712065697 timestamp = 1556655822.24\n",
      "batch = 599 Loss = 1.08810663223 timestamp = 1556655872.87\n",
      "batch = 699 Loss = 0.916844069958 timestamp = 1556655923.56\n",
      "batch = 799 Loss = 1.38432955742 timestamp = 1556655974.12\n",
      "batch = 899 Loss = 0.865910828114 timestamp = 1556656024.67\n",
      "batch = 999 Loss = 1.0085477829 timestamp = 1556656075.32\n",
      "batch = 1099 Loss = 1.06234622002 timestamp = 1556656125.95\n",
      "Epoch Loss = 1.05389474805\n",
      "Epoch: 3\n"
     ]
    },
    {
     "name": "stderr",
     "output_type": "stream",
     "text": [
      "/home/jmukherjee/anaconda3/envs/dl/lib/python2.7/site-packages/skimage/transform/_warps.py:84: UserWarning: The default mode, 'constant', will be changed to 'reflect' in skimage 0.15.\n",
      "  warn(\"The default mode, 'constant', will be changed to 'reflect' in \"\n",
      "/home/jmukherjee/anaconda3/envs/dl/lib/python2.7/site-packages/skimage/transform/_warps.py:84: UserWarning: The default mode, 'constant', will be changed to 'reflect' in skimage 0.15.\n",
      "  warn(\"The default mode, 'constant', will be changed to 'reflect' in \"\n",
      "/home/jmukherjee/anaconda3/envs/dl/lib/python2.7/site-packages/skimage/transform/_warps.py:84: UserWarning: The default mode, 'constant', will be changed to 'reflect' in skimage 0.15.\n",
      "  warn(\"The default mode, 'constant', will be changed to 'reflect' in \"\n",
      "/home/jmukherjee/anaconda3/envs/dl/lib/python2.7/site-packages/skimage/transform/_warps.py:84: UserWarning: The default mode, 'constant', will be changed to 'reflect' in skimage 0.15.\n",
      "  warn(\"The default mode, 'constant', will be changed to 'reflect' in \"\n"
     ]
    },
    {
     "name": "stdout",
     "output_type": "stream",
     "text": [
      "batch = 99 Loss = 0.774433135986 timestamp = 1556656178.09\n",
      "batch = 199 Loss = 0.88685041666 timestamp = 1556656228.75\n",
      "batch = 299 Loss = 1.22999370098 timestamp = 1556656279.4\n",
      "batch = 399 Loss = 1.17711985111 timestamp = 1556656330.04\n",
      "batch = 499 Loss = 1.00983548164 timestamp = 1556656380.59\n",
      "batch = 599 Loss = 1.04595780373 timestamp = 1556656431.62\n",
      "batch = 699 Loss = 0.925590217113 timestamp = 1556656482.53\n",
      "batch = 799 Loss = 0.958246648312 timestamp = 1556656533.47\n",
      "batch = 899 Loss = 0.940053462982 timestamp = 1556656584.45\n",
      "batch = 999 Loss = 1.31374120712 timestamp = 1556656635.4\n",
      "batch = 1099 Loss = 0.669340133667 timestamp = 1556656686.4\n",
      "Epoch Loss = 1.03717500026\n",
      "Epoch: 4\n"
     ]
    },
    {
     "name": "stderr",
     "output_type": "stream",
     "text": [
      "/home/jmukherjee/anaconda3/envs/dl/lib/python2.7/site-packages/skimage/transform/_warps.py:84: UserWarning: The default mode, 'constant', will be changed to 'reflect' in skimage 0.15.\n",
      "  warn(\"The default mode, 'constant', will be changed to 'reflect' in \"\n",
      "/home/jmukherjee/anaconda3/envs/dl/lib/python2.7/site-packages/skimage/transform/_warps.py:84: UserWarning: The default mode, 'constant', will be changed to 'reflect' in skimage 0.15.\n",
      "  warn(\"The default mode, 'constant', will be changed to 'reflect' in \"\n",
      "/home/jmukherjee/anaconda3/envs/dl/lib/python2.7/site-packages/skimage/transform/_warps.py:84: UserWarning: The default mode, 'constant', will be changed to 'reflect' in skimage 0.15.\n",
      "  warn(\"The default mode, 'constant', will be changed to 'reflect' in \"\n",
      "/home/jmukherjee/anaconda3/envs/dl/lib/python2.7/site-packages/skimage/transform/_warps.py:84: UserWarning: The default mode, 'constant', will be changed to 'reflect' in skimage 0.15.\n",
      "  warn(\"The default mode, 'constant', will be changed to 'reflect' in \"\n"
     ]
    },
    {
     "name": "stdout",
     "output_type": "stream",
     "text": [
      "batch = 99 Loss = 1.41967558861 timestamp = 1556656738.99\n",
      "batch = 199 Loss = 0.986648917198 timestamp = 1556656790.0\n",
      "batch = 299 Loss = 1.13282382488 timestamp = 1556656841.08\n",
      "batch = 399 Loss = 1.07186663151 timestamp = 1556656892.16\n",
      "batch = 499 Loss = 0.586680412292 timestamp = 1556656943.21\n",
      "batch = 599 Loss = 1.22961115837 timestamp = 1556656994.21\n",
      "batch = 699 Loss = 1.02620506287 timestamp = 1556657045.2\n",
      "batch = 799 Loss = 1.06085300446 timestamp = 1556657096.24\n",
      "batch = 899 Loss = 1.06579327583 timestamp = 1556657147.21\n",
      "batch = 999 Loss = 1.19680273533 timestamp = 1556657198.27\n",
      "batch = 1099 Loss = 0.850506842136 timestamp = 1556657249.25\n",
      "Epoch Loss = 1.03903671363\n",
      "Epoch: 5\n"
     ]
    },
    {
     "name": "stderr",
     "output_type": "stream",
     "text": [
      "/home/jmukherjee/anaconda3/envs/dl/lib/python2.7/site-packages/skimage/transform/_warps.py:84: UserWarning: The default mode, 'constant', will be changed to 'reflect' in skimage 0.15.\n",
      "  warn(\"The default mode, 'constant', will be changed to 'reflect' in \"\n",
      "/home/jmukherjee/anaconda3/envs/dl/lib/python2.7/site-packages/skimage/transform/_warps.py:84: UserWarning: The default mode, 'constant', will be changed to 'reflect' in skimage 0.15.\n",
      "  warn(\"The default mode, 'constant', will be changed to 'reflect' in \"\n",
      "/home/jmukherjee/anaconda3/envs/dl/lib/python2.7/site-packages/skimage/transform/_warps.py:84: UserWarning: The default mode, 'constant', will be changed to 'reflect' in skimage 0.15.\n",
      "  warn(\"The default mode, 'constant', will be changed to 'reflect' in \"\n",
      "/home/jmukherjee/anaconda3/envs/dl/lib/python2.7/site-packages/skimage/transform/_warps.py:84: UserWarning: The default mode, 'constant', will be changed to 'reflect' in skimage 0.15.\n",
      "  warn(\"The default mode, 'constant', will be changed to 'reflect' in \"\n"
     ]
    },
    {
     "name": "stdout",
     "output_type": "stream",
     "text": [
      "batch = 99 Loss = 0.991306185722 timestamp = 1556657301.73\n",
      "batch = 199 Loss = 1.14219474792 timestamp = 1556657352.73\n",
      "batch = 299 Loss = 1.22266161442 timestamp = 1556657403.69\n",
      "batch = 399 Loss = 1.17607593536 timestamp = 1556657454.64\n",
      "batch = 499 Loss = 1.13857936859 timestamp = 1556657505.61\n",
      "batch = 599 Loss = 0.832433283329 timestamp = 1556657556.59\n",
      "batch = 699 Loss = 1.42182326317 timestamp = 1556657607.5\n",
      "batch = 799 Loss = 1.06850290298 timestamp = 1556657658.43\n",
      "batch = 899 Loss = 0.895832896233 timestamp = 1556657709.38\n",
      "batch = 999 Loss = 0.905678629875 timestamp = 1556657760.27\n",
      "batch = 1099 Loss = 1.07427954674 timestamp = 1556657811.2\n",
      "Epoch Loss = 1.04243474598\n",
      "Epoch: 6\n"
     ]
    },
    {
     "name": "stderr",
     "output_type": "stream",
     "text": [
      "/home/jmukherjee/anaconda3/envs/dl/lib/python2.7/site-packages/skimage/transform/_warps.py:84: UserWarning: The default mode, 'constant', will be changed to 'reflect' in skimage 0.15.\n",
      "  warn(\"The default mode, 'constant', will be changed to 'reflect' in \"\n",
      "/home/jmukherjee/anaconda3/envs/dl/lib/python2.7/site-packages/skimage/transform/_warps.py:84: UserWarning: The default mode, 'constant', will be changed to 'reflect' in skimage 0.15.\n",
      "  warn(\"The default mode, 'constant', will be changed to 'reflect' in \"\n",
      "/home/jmukherjee/anaconda3/envs/dl/lib/python2.7/site-packages/skimage/transform/_warps.py:84: UserWarning: The default mode, 'constant', will be changed to 'reflect' in skimage 0.15.\n",
      "  warn(\"The default mode, 'constant', will be changed to 'reflect' in \"\n",
      "/home/jmukherjee/anaconda3/envs/dl/lib/python2.7/site-packages/skimage/transform/_warps.py:84: UserWarning: The default mode, 'constant', will be changed to 'reflect' in skimage 0.15.\n",
      "  warn(\"The default mode, 'constant', will be changed to 'reflect' in \"\n"
     ]
    },
    {
     "name": "stdout",
     "output_type": "stream",
     "text": [
      "batch = 99 Loss = 1.04047703743 timestamp = 1556657863.6\n",
      "batch = 199 Loss = 0.862191259861 timestamp = 1556657914.57\n",
      "batch = 299 Loss = 0.877631127834 timestamp = 1556657965.55\n",
      "batch = 399 Loss = 1.05728089809 timestamp = 1556658016.49\n",
      "batch = 499 Loss = 0.760261356831 timestamp = 1556658067.48\n",
      "batch = 599 Loss = 0.746297240257 timestamp = 1556658118.46\n",
      "batch = 699 Loss = 1.14205920696 timestamp = 1556658169.41\n",
      "batch = 799 Loss = 0.964678525925 timestamp = 1556658219.1\n",
      "batch = 899 Loss = 0.898105144501 timestamp = 1556658267.86\n",
      "batch = 999 Loss = 1.05429410934 timestamp = 1556658316.62\n",
      "batch = 1099 Loss = 0.891075074673 timestamp = 1556658365.4\n",
      "Epoch Loss = 1.06706167421\n",
      "Epoch: 7\n"
     ]
    },
    {
     "name": "stderr",
     "output_type": "stream",
     "text": [
      "/home/jmukherjee/anaconda3/envs/dl/lib/python2.7/site-packages/skimage/transform/_warps.py:84: UserWarning: The default mode, 'constant', will be changed to 'reflect' in skimage 0.15.\n",
      "  warn(\"The default mode, 'constant', will be changed to 'reflect' in \"\n",
      "/home/jmukherjee/anaconda3/envs/dl/lib/python2.7/site-packages/skimage/transform/_warps.py:84: UserWarning: The default mode, 'constant', will be changed to 'reflect' in skimage 0.15.\n",
      "  warn(\"The default mode, 'constant', will be changed to 'reflect' in \"\n",
      "/home/jmukherjee/anaconda3/envs/dl/lib/python2.7/site-packages/skimage/transform/_warps.py:84: UserWarning: The default mode, 'constant', will be changed to 'reflect' in skimage 0.15.\n",
      "  warn(\"The default mode, 'constant', will be changed to 'reflect' in \"\n",
      "/home/jmukherjee/anaconda3/envs/dl/lib/python2.7/site-packages/skimage/transform/_warps.py:84: UserWarning: The default mode, 'constant', will be changed to 'reflect' in skimage 0.15.\n",
      "  warn(\"The default mode, 'constant', will be changed to 'reflect' in \"\n"
     ]
    },
    {
     "name": "stdout",
     "output_type": "stream",
     "text": [
      "batch = 99 Loss = 0.929071843624 timestamp = 1556658415.64\n",
      "batch = 199 Loss = 0.799190104008 timestamp = 1556658464.44\n",
      "batch = 299 Loss = 1.20991063118 timestamp = 1556658513.21\n",
      "batch = 399 Loss = 1.09973967075 timestamp = 1556658562.0\n",
      "batch = 499 Loss = 1.05109131336 timestamp = 1556658610.76\n",
      "batch = 599 Loss = 0.97115445137 timestamp = 1556658659.53\n",
      "batch = 699 Loss = 1.31343889236 timestamp = 1556658708.31\n",
      "batch = 799 Loss = 0.925249993801 timestamp = 1556658757.09\n",
      "batch = 899 Loss = 0.8662135005 timestamp = 1556658805.88\n",
      "batch = 999 Loss = 1.05489552021 timestamp = 1556658854.67\n",
      "batch = 1099 Loss = 1.0070463419 timestamp = 1556658903.47\n",
      "Epoch Loss = 1.03080699411\n",
      "Epoch: 8\n"
     ]
    },
    {
     "name": "stderr",
     "output_type": "stream",
     "text": [
      "/home/jmukherjee/anaconda3/envs/dl/lib/python2.7/site-packages/skimage/transform/_warps.py:84: UserWarning: The default mode, 'constant', will be changed to 'reflect' in skimage 0.15.\n",
      "  warn(\"The default mode, 'constant', will be changed to 'reflect' in \"\n",
      "/home/jmukherjee/anaconda3/envs/dl/lib/python2.7/site-packages/skimage/transform/_warps.py:84: UserWarning: The default mode, 'constant', will be changed to 'reflect' in skimage 0.15.\n",
      "  warn(\"The default mode, 'constant', will be changed to 'reflect' in \"\n",
      "/home/jmukherjee/anaconda3/envs/dl/lib/python2.7/site-packages/skimage/transform/_warps.py:84: UserWarning: The default mode, 'constant', will be changed to 'reflect' in skimage 0.15.\n",
      "  warn(\"The default mode, 'constant', will be changed to 'reflect' in \"\n",
      "/home/jmukherjee/anaconda3/envs/dl/lib/python2.7/site-packages/skimage/transform/_warps.py:84: UserWarning: The default mode, 'constant', will be changed to 'reflect' in skimage 0.15.\n",
      "  warn(\"The default mode, 'constant', will be changed to 'reflect' in \"\n"
     ]
    },
    {
     "name": "stdout",
     "output_type": "stream",
     "text": [
      "batch = 99 Loss = 0.886688411236 timestamp = 1556658954.04\n",
      "batch = 199 Loss = 0.628285527229 timestamp = 1556659005.2\n",
      "batch = 299 Loss = 0.901413023472 timestamp = 1556659055.68\n",
      "batch = 399 Loss = 1.24402749538 timestamp = 1556659106.22\n",
      "batch = 499 Loss = 1.0338704586 timestamp = 1556659156.71\n",
      "batch = 599 Loss = 1.61395311356 timestamp = 1556659207.34\n",
      "batch = 699 Loss = 1.04326224327 timestamp = 1556659257.87\n",
      "batch = 799 Loss = 1.79056406021 timestamp = 1556659308.39\n",
      "batch = 899 Loss = 0.982495486736 timestamp = 1556659358.89\n",
      "batch = 999 Loss = 1.20735692978 timestamp = 1556659409.58\n",
      "batch = 1099 Loss = 1.12235605717 timestamp = 1556659460.12\n",
      "Epoch Loss = 1.12649554558\n",
      "Epoch: 9\n"
     ]
    },
    {
     "name": "stderr",
     "output_type": "stream",
     "text": [
      "/home/jmukherjee/anaconda3/envs/dl/lib/python2.7/site-packages/skimage/transform/_warps.py:84: UserWarning: The default mode, 'constant', will be changed to 'reflect' in skimage 0.15.\n",
      "  warn(\"The default mode, 'constant', will be changed to 'reflect' in \"\n",
      "/home/jmukherjee/anaconda3/envs/dl/lib/python2.7/site-packages/skimage/transform/_warps.py:84: UserWarning: The default mode, 'constant', will be changed to 'reflect' in skimage 0.15.\n",
      "  warn(\"The default mode, 'constant', will be changed to 'reflect' in \"\n",
      "/home/jmukherjee/anaconda3/envs/dl/lib/python2.7/site-packages/skimage/transform/_warps.py:84: UserWarning: The default mode, 'constant', will be changed to 'reflect' in skimage 0.15.\n",
      "  warn(\"The default mode, 'constant', will be changed to 'reflect' in \"\n",
      "/home/jmukherjee/anaconda3/envs/dl/lib/python2.7/site-packages/skimage/transform/_warps.py:84: UserWarning: The default mode, 'constant', will be changed to 'reflect' in skimage 0.15.\n",
      "  warn(\"The default mode, 'constant', will be changed to 'reflect' in \"\n"
     ]
    },
    {
     "name": "stdout",
     "output_type": "stream",
     "text": [
      "batch = 99 Loss = 1.31069755554 timestamp = 1556659512.06\n",
      "batch = 199 Loss = 1.09553217888 timestamp = 1556659562.52\n",
      "batch = 299 Loss = 1.47796320915 timestamp = 1556659613.1\n",
      "batch = 399 Loss = 0.939045250416 timestamp = 1556659663.69\n",
      "batch = 499 Loss = 1.26426589489 timestamp = 1556659714.28\n",
      "batch = 599 Loss = 0.969427406788 timestamp = 1556659764.85\n",
      "batch = 699 Loss = 1.01724624634 timestamp = 1556659815.42\n",
      "batch = 799 Loss = 1.00877487659 timestamp = 1556659866.04\n",
      "batch = 899 Loss = 1.67753815651 timestamp = 1556659916.69\n",
      "batch = 999 Loss = 1.28328943253 timestamp = 1556659967.29\n",
      "batch = 1099 Loss = 1.18992817402 timestamp = 1556660017.8\n",
      "Epoch Loss = 1.12921772371\n",
      "Epoch: 10\n"
     ]
    },
    {
     "name": "stderr",
     "output_type": "stream",
     "text": [
      "/home/jmukherjee/anaconda3/envs/dl/lib/python2.7/site-packages/skimage/transform/_warps.py:84: UserWarning: The default mode, 'constant', will be changed to 'reflect' in skimage 0.15.\n",
      "  warn(\"The default mode, 'constant', will be changed to 'reflect' in \"\n",
      "/home/jmukherjee/anaconda3/envs/dl/lib/python2.7/site-packages/skimage/transform/_warps.py:84: UserWarning: The default mode, 'constant', will be changed to 'reflect' in skimage 0.15.\n",
      "  warn(\"The default mode, 'constant', will be changed to 'reflect' in \"\n",
      "/home/jmukherjee/anaconda3/envs/dl/lib/python2.7/site-packages/skimage/transform/_warps.py:84: UserWarning: The default mode, 'constant', will be changed to 'reflect' in skimage 0.15.\n",
      "  warn(\"The default mode, 'constant', will be changed to 'reflect' in \"\n",
      "/home/jmukherjee/anaconda3/envs/dl/lib/python2.7/site-packages/skimage/transform/_warps.py:84: UserWarning: The default mode, 'constant', will be changed to 'reflect' in skimage 0.15.\n",
      "  warn(\"The default mode, 'constant', will be changed to 'reflect' in \"\n"
     ]
    },
    {
     "name": "stdout",
     "output_type": "stream",
     "text": [
      "batch = 99 Loss = 0.697756648064 timestamp = 1556660069.81\n",
      "batch = 199 Loss = 1.35555315018 timestamp = 1556660120.45\n",
      "batch = 299 Loss = 1.07424020767 timestamp = 1556660171.05\n",
      "batch = 399 Loss = 1.41720712185 timestamp = 1556660221.64\n",
      "batch = 499 Loss = 1.04803192616 timestamp = 1556660272.29\n",
      "batch = 599 Loss = 1.10652077198 timestamp = 1556660322.92\n",
      "batch = 699 Loss = 1.16146886349 timestamp = 1556660373.42\n",
      "batch = 799 Loss = 1.38588523865 timestamp = 1556660423.91\n",
      "batch = 899 Loss = 0.737342119217 timestamp = 1556660474.44\n",
      "batch = 999 Loss = 1.47837519646 timestamp = 1556660525.03\n",
      "batch = 1099 Loss = 0.810164570808 timestamp = 1556660575.54\n",
      "Epoch Loss = 1.07620160556\n",
      "Epoch: 11\n"
     ]
    },
    {
     "name": "stderr",
     "output_type": "stream",
     "text": [
      "/home/jmukherjee/anaconda3/envs/dl/lib/python2.7/site-packages/skimage/transform/_warps.py:84: UserWarning: The default mode, 'constant', will be changed to 'reflect' in skimage 0.15.\n",
      "  warn(\"The default mode, 'constant', will be changed to 'reflect' in \"\n",
      "/home/jmukherjee/anaconda3/envs/dl/lib/python2.7/site-packages/skimage/transform/_warps.py:84: UserWarning: The default mode, 'constant', will be changed to 'reflect' in skimage 0.15.\n",
      "  warn(\"The default mode, 'constant', will be changed to 'reflect' in \"\n",
      "/home/jmukherjee/anaconda3/envs/dl/lib/python2.7/site-packages/skimage/transform/_warps.py:84: UserWarning: The default mode, 'constant', will be changed to 'reflect' in skimage 0.15.\n",
      "  warn(\"The default mode, 'constant', will be changed to 'reflect' in \"\n",
      "/home/jmukherjee/anaconda3/envs/dl/lib/python2.7/site-packages/skimage/transform/_warps.py:84: UserWarning: The default mode, 'constant', will be changed to 'reflect' in skimage 0.15.\n",
      "  warn(\"The default mode, 'constant', will be changed to 'reflect' in \"\n"
     ]
    },
    {
     "name": "stdout",
     "output_type": "stream",
     "text": [
      "batch = 99 Loss = 0.862828671932 timestamp = 1556660627.6\n",
      "batch = 199 Loss = 0.840252876282 timestamp = 1556660678.2\n",
      "batch = 299 Loss = 1.01247918606 timestamp = 1556660728.74\n",
      "batch = 399 Loss = 1.29210019112 timestamp = 1556660779.36\n",
      "batch = 499 Loss = 1.04169344902 timestamp = 1556660829.87\n",
      "batch = 599 Loss = 1.15082526207 timestamp = 1556660880.68\n",
      "batch = 699 Loss = 1.77570557594 timestamp = 1556660931.51\n",
      "batch = 799 Loss = 1.22825086117 timestamp = 1556660982.43\n",
      "batch = 899 Loss = 2.684497118 timestamp = 1556661033.3\n",
      "batch = 999 Loss = 0.949662089348 timestamp = 1556661084.19\n",
      "batch = 1099 Loss = 1.28274834156 timestamp = 1556661135.05\n",
      "Epoch Loss = 1.10513006488\n",
      "Epoch: 12\n"
     ]
    },
    {
     "name": "stderr",
     "output_type": "stream",
     "text": [
      "/home/jmukherjee/anaconda3/envs/dl/lib/python2.7/site-packages/skimage/transform/_warps.py:84: UserWarning: The default mode, 'constant', will be changed to 'reflect' in skimage 0.15.\n",
      "  warn(\"The default mode, 'constant', will be changed to 'reflect' in \"\n",
      "/home/jmukherjee/anaconda3/envs/dl/lib/python2.7/site-packages/skimage/transform/_warps.py:84: UserWarning: The default mode, 'constant', will be changed to 'reflect' in skimage 0.15.\n",
      "  warn(\"The default mode, 'constant', will be changed to 'reflect' in \"\n",
      "/home/jmukherjee/anaconda3/envs/dl/lib/python2.7/site-packages/skimage/transform/_warps.py:84: UserWarning: The default mode, 'constant', will be changed to 'reflect' in skimage 0.15.\n",
      "  warn(\"The default mode, 'constant', will be changed to 'reflect' in \"\n",
      "/home/jmukherjee/anaconda3/envs/dl/lib/python2.7/site-packages/skimage/transform/_warps.py:84: UserWarning: The default mode, 'constant', will be changed to 'reflect' in skimage 0.15.\n",
      "  warn(\"The default mode, 'constant', will be changed to 'reflect' in \"\n"
     ]
    },
    {
     "name": "stdout",
     "output_type": "stream",
     "text": [
      "batch = 99 Loss = 0.683138608932 timestamp = 1556661187.53\n",
      "batch = 199 Loss = 1.07811951637 timestamp = 1556661238.38\n",
      "batch = 299 Loss = 1.22321033478 timestamp = 1556661289.25\n",
      "batch = 399 Loss = 0.967053830624 timestamp = 1556661340.18\n",
      "batch = 499 Loss = 1.49819386005 timestamp = 1556661391.13\n",
      "batch = 599 Loss = 1.96517646313 timestamp = 1556661441.99\n",
      "batch = 699 Loss = 1.1340482235 timestamp = 1556661492.83\n",
      "batch = 799 Loss = 1.26245307922 timestamp = 1556661543.68\n",
      "batch = 899 Loss = 0.87492287159 timestamp = 1556661594.57\n",
      "batch = 999 Loss = 1.24516630173 timestamp = 1556661645.38\n",
      "batch = 1099 Loss = 1.28826987743 timestamp = 1556661696.24\n",
      "Epoch Loss = 1.16852587088\n",
      "Epoch: 13\n"
     ]
    },
    {
     "name": "stderr",
     "output_type": "stream",
     "text": [
      "/home/jmukherjee/anaconda3/envs/dl/lib/python2.7/site-packages/skimage/transform/_warps.py:84: UserWarning: The default mode, 'constant', will be changed to 'reflect' in skimage 0.15.\n",
      "  warn(\"The default mode, 'constant', will be changed to 'reflect' in \"\n",
      "/home/jmukherjee/anaconda3/envs/dl/lib/python2.7/site-packages/skimage/transform/_warps.py:84: UserWarning: The default mode, 'constant', will be changed to 'reflect' in skimage 0.15.\n",
      "  warn(\"The default mode, 'constant', will be changed to 'reflect' in \"\n",
      "/home/jmukherjee/anaconda3/envs/dl/lib/python2.7/site-packages/skimage/transform/_warps.py:84: UserWarning: The default mode, 'constant', will be changed to 'reflect' in skimage 0.15.\n",
      "  warn(\"The default mode, 'constant', will be changed to 'reflect' in \"\n",
      "/home/jmukherjee/anaconda3/envs/dl/lib/python2.7/site-packages/skimage/transform/_warps.py:84: UserWarning: The default mode, 'constant', will be changed to 'reflect' in skimage 0.15.\n",
      "  warn(\"The default mode, 'constant', will be changed to 'reflect' in \"\n"
     ]
    },
    {
     "name": "stdout",
     "output_type": "stream",
     "text": [
      "batch = 99 Loss = 1.04558742046 timestamp = 1556661748.63\n",
      "batch = 199 Loss = 0.931816279888 timestamp = 1556661799.44\n",
      "batch = 299 Loss = 1.03290557861 timestamp = 1556661850.33\n",
      "batch = 399 Loss = 1.44407844543 timestamp = 1556661901.16\n",
      "batch = 499 Loss = 0.887285768986 timestamp = 1556661952.04\n",
      "batch = 599 Loss = 0.879054427147 timestamp = 1556662002.89\n",
      "batch = 699 Loss = 0.853374660015 timestamp = 1556662053.72\n",
      "batch = 799 Loss = 1.0238161087 timestamp = 1556662104.54\n",
      "batch = 899 Loss = 1.02925670147 timestamp = 1556662155.33\n",
      "batch = 999 Loss = 1.11365509033 timestamp = 1556662206.12\n",
      "batch = 1099 Loss = 1.10750603676 timestamp = 1556662257.02\n",
      "Epoch Loss = 1.09887724641\n",
      "Epoch: 14\n"
     ]
    },
    {
     "name": "stderr",
     "output_type": "stream",
     "text": [
      "/home/jmukherjee/anaconda3/envs/dl/lib/python2.7/site-packages/skimage/transform/_warps.py:84: UserWarning: The default mode, 'constant', will be changed to 'reflect' in skimage 0.15.\n",
      "  warn(\"The default mode, 'constant', will be changed to 'reflect' in \"\n",
      "/home/jmukherjee/anaconda3/envs/dl/lib/python2.7/site-packages/skimage/transform/_warps.py:84: UserWarning: The default mode, 'constant', will be changed to 'reflect' in skimage 0.15.\n",
      "  warn(\"The default mode, 'constant', will be changed to 'reflect' in \"\n",
      "/home/jmukherjee/anaconda3/envs/dl/lib/python2.7/site-packages/skimage/transform/_warps.py:84: UserWarning: The default mode, 'constant', will be changed to 'reflect' in skimage 0.15.\n",
      "  warn(\"The default mode, 'constant', will be changed to 'reflect' in \"\n",
      "/home/jmukherjee/anaconda3/envs/dl/lib/python2.7/site-packages/skimage/transform/_warps.py:84: UserWarning: The default mode, 'constant', will be changed to 'reflect' in skimage 0.15.\n",
      "  warn(\"The default mode, 'constant', will be changed to 'reflect' in \"\n"
     ]
    },
    {
     "name": "stdout",
     "output_type": "stream",
     "text": [
      "batch = 99 Loss = 1.54740703106 timestamp = 1556662309.33\n",
      "batch = 199 Loss = 1.05886673927 timestamp = 1556662360.16\n",
      "batch = 299 Loss = 0.842893838882 timestamp = 1556662410.92\n",
      "batch = 399 Loss = 0.990480959415 timestamp = 1556662461.72\n",
      "batch = 499 Loss = 0.873221993446 timestamp = 1556662512.46\n",
      "batch = 599 Loss = 1.08595812321 timestamp = 1556662563.21\n",
      "batch = 699 Loss = 1.3582470417 timestamp = 1556662613.96\n",
      "batch = 799 Loss = 1.07821428776 timestamp = 1556662664.14\n",
      "batch = 899 Loss = 1.16802656651 timestamp = 1556662712.75\n",
      "batch = 999 Loss = 1.55457663536 timestamp = 1556662761.37\n",
      "batch = 1099 Loss = 1.0036251545 timestamp = 1556662810.0\n",
      "Epoch Loss = 1.09412111194\n",
      "Epoch: 15\n"
     ]
    },
    {
     "name": "stderr",
     "output_type": "stream",
     "text": [
      "/home/jmukherjee/anaconda3/envs/dl/lib/python2.7/site-packages/skimage/transform/_warps.py:84: UserWarning: The default mode, 'constant', will be changed to 'reflect' in skimage 0.15.\n",
      "  warn(\"The default mode, 'constant', will be changed to 'reflect' in \"\n",
      "/home/jmukherjee/anaconda3/envs/dl/lib/python2.7/site-packages/skimage/transform/_warps.py:84: UserWarning: The default mode, 'constant', will be changed to 'reflect' in skimage 0.15.\n",
      "  warn(\"The default mode, 'constant', will be changed to 'reflect' in \"\n",
      "/home/jmukherjee/anaconda3/envs/dl/lib/python2.7/site-packages/skimage/transform/_warps.py:84: UserWarning: The default mode, 'constant', will be changed to 'reflect' in skimage 0.15.\n",
      "  warn(\"The default mode, 'constant', will be changed to 'reflect' in \"\n",
      "/home/jmukherjee/anaconda3/envs/dl/lib/python2.7/site-packages/skimage/transform/_warps.py:84: UserWarning: The default mode, 'constant', will be changed to 'reflect' in skimage 0.15.\n",
      "  warn(\"The default mode, 'constant', will be changed to 'reflect' in \"\n"
     ]
    },
    {
     "name": "stdout",
     "output_type": "stream",
     "text": [
      "batch = 99 Loss = 0.759482979774 timestamp = 1556662860.06\n",
      "batch = 199 Loss = 1.13231921196 timestamp = 1556662908.69\n",
      "batch = 299 Loss = 0.967452764511 timestamp = 1556662957.26\n",
      "batch = 399 Loss = 1.06196761131 timestamp = 1556663005.83\n",
      "batch = 499 Loss = 1.34396624565 timestamp = 1556663054.42\n",
      "batch = 599 Loss = 1.26616513729 timestamp = 1556663103.02\n",
      "batch = 699 Loss = 1.20038950443 timestamp = 1556663151.58\n",
      "batch = 799 Loss = 0.979109764099 timestamp = 1556663200.14\n",
      "batch = 899 Loss = 1.17858552933 timestamp = 1556663248.75\n",
      "batch = 999 Loss = 1.20890939236 timestamp = 1556663297.32\n",
      "batch = 1099 Loss = 0.807956814766 timestamp = 1556663345.83\n",
      "Epoch Loss = 1.07326843972\n",
      "Epoch: 16\n"
     ]
    },
    {
     "name": "stderr",
     "output_type": "stream",
     "text": [
      "/home/jmukherjee/anaconda3/envs/dl/lib/python2.7/site-packages/skimage/transform/_warps.py:84: UserWarning: The default mode, 'constant', will be changed to 'reflect' in skimage 0.15.\n",
      "  warn(\"The default mode, 'constant', will be changed to 'reflect' in \"\n",
      "/home/jmukherjee/anaconda3/envs/dl/lib/python2.7/site-packages/skimage/transform/_warps.py:84: UserWarning: The default mode, 'constant', will be changed to 'reflect' in skimage 0.15.\n",
      "  warn(\"The default mode, 'constant', will be changed to 'reflect' in \"\n",
      "/home/jmukherjee/anaconda3/envs/dl/lib/python2.7/site-packages/skimage/transform/_warps.py:84: UserWarning: The default mode, 'constant', will be changed to 'reflect' in skimage 0.15.\n",
      "  warn(\"The default mode, 'constant', will be changed to 'reflect' in \"\n",
      "/home/jmukherjee/anaconda3/envs/dl/lib/python2.7/site-packages/skimage/transform/_warps.py:84: UserWarning: The default mode, 'constant', will be changed to 'reflect' in skimage 0.15.\n",
      "  warn(\"The default mode, 'constant', will be changed to 'reflect' in \"\n"
     ]
    },
    {
     "name": "stdout",
     "output_type": "stream",
     "text": [
      "batch = 99 Loss = 0.811183869839 timestamp = 1556663395.73\n",
      "batch = 199 Loss = 1.1262332201 timestamp = 1556663444.29\n",
      "batch = 299 Loss = 0.832645237446 timestamp = 1556663492.85\n",
      "batch = 399 Loss = 0.658583819866 timestamp = 1556663541.37\n",
      "batch = 499 Loss = 0.854092597961 timestamp = 1556663589.91\n",
      "batch = 599 Loss = 0.999887526035 timestamp = 1556663638.47\n",
      "batch = 699 Loss = 1.29897904396 timestamp = 1556663686.98\n",
      "batch = 799 Loss = 1.37251567841 timestamp = 1556663735.53\n",
      "batch = 899 Loss = 1.18297159672 timestamp = 1556663784.05\n",
      "batch = 999 Loss = 0.844661951065 timestamp = 1556663832.54\n",
      "batch = 1099 Loss = 0.805490732193 timestamp = 1556663881.01\n",
      "Epoch Loss = 1.07410745661\n",
      "Epoch: 17\n"
     ]
    },
    {
     "name": "stderr",
     "output_type": "stream",
     "text": [
      "/home/jmukherjee/anaconda3/envs/dl/lib/python2.7/site-packages/skimage/transform/_warps.py:84: UserWarning: The default mode, 'constant', will be changed to 'reflect' in skimage 0.15.\n",
      "  warn(\"The default mode, 'constant', will be changed to 'reflect' in \"\n",
      "/home/jmukherjee/anaconda3/envs/dl/lib/python2.7/site-packages/skimage/transform/_warps.py:84: UserWarning: The default mode, 'constant', will be changed to 'reflect' in skimage 0.15.\n",
      "  warn(\"The default mode, 'constant', will be changed to 'reflect' in \"\n",
      "/home/jmukherjee/anaconda3/envs/dl/lib/python2.7/site-packages/skimage/transform/_warps.py:84: UserWarning: The default mode, 'constant', will be changed to 'reflect' in skimage 0.15.\n",
      "  warn(\"The default mode, 'constant', will be changed to 'reflect' in \"\n",
      "/home/jmukherjee/anaconda3/envs/dl/lib/python2.7/site-packages/skimage/transform/_warps.py:84: UserWarning: The default mode, 'constant', will be changed to 'reflect' in skimage 0.15.\n",
      "  warn(\"The default mode, 'constant', will be changed to 'reflect' in \"\n"
     ]
    },
    {
     "name": "stdout",
     "output_type": "stream",
     "text": [
      "batch = 99 Loss = 0.72160500288 timestamp = 1556663931.05\n",
      "batch = 199 Loss = 1.01025414467 timestamp = 1556663979.58\n",
      "batch = 299 Loss = 0.963723003864 timestamp = 1556664028.09\n",
      "batch = 399 Loss = 1.0181812048 timestamp = 1556664076.57\n",
      "batch = 499 Loss = 1.06199204922 timestamp = 1556664125.05\n",
      "batch = 599 Loss = 1.42761564255 timestamp = 1556664173.49\n",
      "batch = 699 Loss = 1.39896953106 timestamp = 1556664221.95\n",
      "batch = 799 Loss = 1.60324633121 timestamp = 1556664270.4\n",
      "batch = 899 Loss = 1.2634704113 timestamp = 1556664318.86\n",
      "batch = 999 Loss = 1.04856491089 timestamp = 1556664367.31\n",
      "batch = 1099 Loss = 0.966193914413 timestamp = 1556664415.76\n",
      "Epoch Loss = 1.059370076\n",
      "Epoch: 18\n"
     ]
    },
    {
     "name": "stderr",
     "output_type": "stream",
     "text": [
      "/home/jmukherjee/anaconda3/envs/dl/lib/python2.7/site-packages/skimage/transform/_warps.py:84: UserWarning: The default mode, 'constant', will be changed to 'reflect' in skimage 0.15.\n",
      "  warn(\"The default mode, 'constant', will be changed to 'reflect' in \"\n",
      "/home/jmukherjee/anaconda3/envs/dl/lib/python2.7/site-packages/skimage/transform/_warps.py:84: UserWarning: The default mode, 'constant', will be changed to 'reflect' in skimage 0.15.\n",
      "  warn(\"The default mode, 'constant', will be changed to 'reflect' in \"\n",
      "/home/jmukherjee/anaconda3/envs/dl/lib/python2.7/site-packages/skimage/transform/_warps.py:84: UserWarning: The default mode, 'constant', will be changed to 'reflect' in skimage 0.15.\n",
      "  warn(\"The default mode, 'constant', will be changed to 'reflect' in \"\n",
      "/home/jmukherjee/anaconda3/envs/dl/lib/python2.7/site-packages/skimage/transform/_warps.py:84: UserWarning: The default mode, 'constant', will be changed to 'reflect' in skimage 0.15.\n",
      "  warn(\"The default mode, 'constant', will be changed to 'reflect' in \"\n"
     ]
    },
    {
     "name": "stdout",
     "output_type": "stream",
     "text": [
      "batch = 99 Loss = 1.18004119396 timestamp = 1556664465.67\n",
      "batch = 199 Loss = 0.779054582119 timestamp = 1556664514.12\n",
      "batch = 299 Loss = 0.952364861965 timestamp = 1556664562.5\n",
      "batch = 399 Loss = 1.15458238125 timestamp = 1556664610.97\n",
      "batch = 499 Loss = 1.11334347725 timestamp = 1556664659.38\n",
      "batch = 599 Loss = 1.90014600754 timestamp = 1556664707.81\n",
      "batch = 699 Loss = 1.01594626904 timestamp = 1556664756.2\n",
      "batch = 799 Loss = 1.26804149151 timestamp = 1556664804.6\n",
      "batch = 899 Loss = 0.870068788528 timestamp = 1556664853.01\n",
      "batch = 999 Loss = 1.04660260677 timestamp = 1556664901.41\n",
      "batch = 1099 Loss = 1.25595569611 timestamp = 1556664949.74\n",
      "Epoch Loss = 1.07885334315\n",
      "Epoch: 19\n"
     ]
    },
    {
     "name": "stderr",
     "output_type": "stream",
     "text": [
      "/home/jmukherjee/anaconda3/envs/dl/lib/python2.7/site-packages/skimage/transform/_warps.py:84: UserWarning: The default mode, 'constant', will be changed to 'reflect' in skimage 0.15.\n",
      "  warn(\"The default mode, 'constant', will be changed to 'reflect' in \"\n",
      "/home/jmukherjee/anaconda3/envs/dl/lib/python2.7/site-packages/skimage/transform/_warps.py:84: UserWarning: The default mode, 'constant', will be changed to 'reflect' in skimage 0.15.\n",
      "  warn(\"The default mode, 'constant', will be changed to 'reflect' in \"\n",
      "/home/jmukherjee/anaconda3/envs/dl/lib/python2.7/site-packages/skimage/transform/_warps.py:84: UserWarning: The default mode, 'constant', will be changed to 'reflect' in skimage 0.15.\n",
      "  warn(\"The default mode, 'constant', will be changed to 'reflect' in \"\n",
      "/home/jmukherjee/anaconda3/envs/dl/lib/python2.7/site-packages/skimage/transform/_warps.py:84: UserWarning: The default mode, 'constant', will be changed to 'reflect' in skimage 0.15.\n",
      "  warn(\"The default mode, 'constant', will be changed to 'reflect' in \"\n"
     ]
    },
    {
     "name": "stdout",
     "output_type": "stream",
     "text": [
      "batch = 99 Loss = 1.26292705536 timestamp = 1556664999.55\n",
      "batch = 199 Loss = 1.52619576454 timestamp = 1556665047.88\n",
      "batch = 299 Loss = 1.00296807289 timestamp = 1556665096.22\n",
      "batch = 399 Loss = 1.17714774609 timestamp = 1556665144.56\n",
      "batch = 499 Loss = 0.50256562233 timestamp = 1556665192.93\n",
      "batch = 599 Loss = 1.85220789909 timestamp = 1556665241.25\n",
      "batch = 699 Loss = 1.20801913738 timestamp = 1556665289.57\n",
      "batch = 799 Loss = 1.00241720676 timestamp = 1556665337.92\n",
      "batch = 899 Loss = 1.24110329151 timestamp = 1556665386.25\n",
      "batch = 999 Loss = 0.877564311028 timestamp = 1556665434.6\n",
      "batch = 1099 Loss = 1.22260701656 timestamp = 1556665482.91\n",
      "Epoch Loss = 1.05674749058\n"
     ]
    }
   ],
   "source": [
    "train()"
   ]
  }
 ],
 "metadata": {
  "kernelspec": {
   "display_name": "Python 3",
   "language": "python",
   "name": "python3"
  },
  "language_info": {
   "codemirror_mode": {
    "name": "ipython",
    "version": 3
   },
   "file_extension": ".py",
   "mimetype": "text/x-python",
   "name": "python",
   "nbconvert_exporter": "python",
   "pygments_lexer": "ipython3",
   "version": "3.7.0"
  }
 },
 "nbformat": 4,
 "nbformat_minor": 2
}
